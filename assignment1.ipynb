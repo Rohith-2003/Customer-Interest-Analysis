{
  "nbformat": 4,
  "nbformat_minor": 0,
  "metadata": {
    "colab": {
      "provenance": [],
      "authorship_tag": "ABX9TyOQ3hjkpNyVLPBZIq8uNR4x",
      "include_colab_link": true
    },
    "kernelspec": {
      "name": "python3",
      "display_name": "Python 3"
    },
    "language_info": {
      "name": "python"
    }
  },
  "cells": [
    {
      "cell_type": "markdown",
      "metadata": {
        "id": "view-in-github",
        "colab_type": "text"
      },
      "source": [
        "<a href=\"https://colab.research.google.com/github/Rohith-2003/Customer-Interest-Analysis/blob/main/assignment1.ipynb\" target=\"_parent\"><img src=\"https://colab.research.google.com/assets/colab-badge.svg\" alt=\"Open In Colab\"/></a>"
      ]
    },
    {
      "cell_type": "code",
      "execution_count": 1,
      "metadata": {
        "id": "WLkrk3bZaLrR"
      },
      "outputs": [],
      "source": [
        "thistuple=(\"aman\", \"222\", 777, 400.4)"
      ]
    },
    {
      "cell_type": "code",
      "source": [
        "d={'rollno': 155, 'Last Name': 'S','First Name': 'Rohith', 'DAteofbirth': '22/05/2003'}"
      ],
      "metadata": {
        "id": "M57vv6YEa4UA"
      },
      "execution_count": 2,
      "outputs": []
    },
    {
      "cell_type": "code",
      "source": [
        "import random as rd\n",
        "\n",
        "for i in range ( 5 ):\n",
        "  random.seed (4)\n",
        "  print (random.randint ( 1 , 1000 )) "
      ],
      "metadata": {
        "colab": {
          "base_uri": "https://localhost:8080/"
        },
        "id": "njNEHECDbkHU",
        "outputId": "5c483e40-3efc-4f4c-b0de-bd07ae76ea88"
      },
      "execution_count": 16,
      "outputs": [
        {
          "output_type": "stream",
          "name": "stdout",
          "text": [
            "242\n",
            "242\n",
            "242\n",
            "242\n",
            "242\n"
          ]
        }
      ]
    },
    {
      "cell_type": "code",
      "source": [
        "print(rd.uniform(0.0,1.0))\n",
        "print(abs(-1234))"
      ],
      "metadata": {
        "colab": {
          "base_uri": "https://localhost:8080/"
        },
        "id": "sXbgdRLDdy2z",
        "outputId": "8e4eb30a-e8a5-479a-bb9e-c2413c95825c"
      },
      "execution_count": 21,
      "outputs": [
        {
          "output_type": "stream",
          "name": "stdout",
          "text": [
            "0.4788783949238976\n",
            "1234\n"
          ]
        }
      ]
    },
    {
      "cell_type": "code",
      "source": [
        "rd.randrange(19,91)"
      ],
      "metadata": {
        "colab": {
          "base_uri": "https://localhost:8080/"
        },
        "id": "-Rg4spP_eeZ8",
        "outputId": "474ba8ba-88dc-4d20-ce03-7054632b8fb5"
      },
      "execution_count": 22,
      "outputs": [
        {
          "output_type": "execute_result",
          "data": {
            "text/plain": [
              "30"
            ]
          },
          "metadata": {},
          "execution_count": 22
        }
      ]
    },
    {
      "cell_type": "code",
      "source": [
        "l=[11,12,13,14,15]\n",
        "print(rd.sample(l, 3))\n",
        "rd.shuffle(l);print(l)\n",
        "print(rd.sample(l,1))\n",
        "   "
      ],
      "metadata": {
        "colab": {
          "base_uri": "https://localhost:8080/"
        },
        "id": "2Bw6mDnhemyw",
        "outputId": "cb7809e9-c50e-4ed1-af2c-c4845bbb830c"
      },
      "execution_count": 26,
      "outputs": [
        {
          "output_type": "stream",
          "name": "stdout",
          "text": [
            "[13, 15, 14]\n",
            "[14, 12, 15, 11, 13]\n",
            "[11]\n"
          ]
        }
      ]
    },
    {
      "cell_type": "code",
      "source": [
        "import os\n",
        "os.mknod(\"file.txt\")\n",
        "file_open = open(\"file.txt\",\"w\")\n"
      ],
      "metadata": {
        "id": "ggWJxDOdgHE7"
      },
      "execution_count": null,
      "outputs": []
    },
    {
      "cell_type": "code",
      "source": [
        "t1 = int(input())\n",
        "while t1>=1:\n",
        "  a = [11,15,16,23,74]\n",
        "  for i in a:\n",
        "    if i<20:\n",
        "      print('small')\n",
        "      continue\n",
        "    elif i<45:\n",
        "      print('med')\n",
        "      break\n",
        "    else:\n",
        "      print('large')\n",
        "  t1 = t1-1"
      ],
      "metadata": {
        "id": "rtWQvjvEis69"
      },
      "execution_count": null,
      "outputs": []
    },
    {
      "cell_type": "code",
      "source": [
        "str = 'The King is Dead, Long live the King'\n",
        "print(str)\n",
        "print(str[0])\n",
        "print(str[2:6])\n",
        "print(str[2:])\n",
        "str.split()"
      ],
      "metadata": {
        "id": "pd_efUXgi1KW"
      },
      "execution_count": null,
      "outputs": []
    },
    {
      "cell_type": "code",
      "source": [
        "import numpy as np\n",
        "list=[1,4,5,8]\n",
        "a=np.array(list)\n",
        "print(a[:2])"
      ],
      "metadata": {
        "colab": {
          "base_uri": "https://localhost:8080/"
        },
        "id": "Ov7mdp4yi51c",
        "outputId": "382da422-9edb-43fd-d29e-f4557c1489b1"
      },
      "execution_count": 30,
      "outputs": [
        {
          "output_type": "stream",
          "name": "stdout",
          "text": [
            "[1 4]\n"
          ]
        }
      ]
    },
    {
      "cell_type": "code",
      "source": [
        "list=[[1,2,3],[4,5,6]]\n",
        "x=np.array(list)\n",
        "print(x)"
      ],
      "metadata": {
        "colab": {
          "base_uri": "https://localhost:8080/"
        },
        "id": "UJfzOjEcj0up",
        "outputId": "1954bb46-d49d-4699-c929-9902f79db5dd"
      },
      "execution_count": 32,
      "outputs": [
        {
          "output_type": "stream",
          "name": "stdout",
          "text": [
            "[[1 2 3]\n",
            " [4 5 6]]\n"
          ]
        }
      ]
    },
    {
      "cell_type": "code",
      "source": [
        "print(x[1,:])"
      ],
      "metadata": {
        "colab": {
          "base_uri": "https://localhost:8080/"
        },
        "id": "JwYUyHXIkWdw",
        "outputId": "77b67224-9591-4143-c9db-f0b9825a2e7c"
      },
      "execution_count": 36,
      "outputs": [
        {
          "output_type": "stream",
          "name": "stdout",
          "text": [
            "[4 5 6]\n"
          ]
        }
      ]
    }
  ]
}